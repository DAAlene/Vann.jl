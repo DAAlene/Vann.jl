{
 "cells": [
  {
   "cell_type": "markdown",
   "metadata": {},
   "source": [
    "# Metaprogramming"
   ]
  },
  {
   "cell_type": "code",
   "execution_count": 5,
   "metadata": {
    "collapsed": false
   },
   "outputs": [
    {
     "data": {
      "text/plain": [
       "3"
      ]
     },
     "execution_count": 5,
     "metadata": {},
     "output_type": "execute_result"
    }
   ],
   "source": [
    "# Eval can process variables in the global scope\n",
    "\n",
    "x = 3;\n",
    "eval(:x)"
   ]
  },
  {
   "cell_type": "code",
   "execution_count": 6,
   "metadata": {
    "collapsed": false
   },
   "outputs": [
    {
     "ename": "LoadError",
     "evalue": "LoadError: UndefVarError: y not defined\nwhile loading In[6], in expression starting on line 4",
     "output_type": "error",
     "traceback": [
      "LoadError: UndefVarError: y not defined\nwhile loading In[6], in expression starting on line 4",
      "",
      " in bar at In[6]:3"
     ]
    }
   ],
   "source": [
    "# Eval cannot process variables in the local scope\n",
    "\n",
    "bar(y) = eval(:y)\n",
    "bar(7)"
   ]
  },
  {
   "cell_type": "code",
   "execution_count": 9,
   "metadata": {
    "collapsed": false
   },
   "outputs": [
    {
     "name": "stdout",
     "output_type": "stream",
     "text": [
      "  0.000292 seconds (8 allocations: 416 bytes)\n",
      "  0.000001 seconds (4 allocations: 160 bytes)\n"
     ]
    },
    {
     "data": {
      "text/plain": [
       "49"
      ]
     },
     "execution_count": 9,
     "metadata": {},
     "output_type": "execute_result"
    }
   ],
   "source": [
    "# This eval statement is a performance killer\n",
    "\n",
    "bar(y) = @eval $y * $y\n",
    "bar(7);\n",
    "@time bar(7)\n",
    "\n",
    "bar1(y) = y*y\n",
    "bar1(7);\n",
    "@time bar1(7)"
   ]
  },
  {
   "cell_type": "markdown",
   "metadata": {},
   "source": [
    "# Modules and scope"
   ]
  },
  {
   "cell_type": "code",
   "execution_count": 2,
   "metadata": {
    "collapsed": false
   },
   "outputs": [
    {
     "name": "stdout",
     "output_type": "stream",
     "text": [
      "temp defined in repl mode\n"
     ]
    }
   ],
   "source": [
    "workspace()\n",
    "\n",
    "# Two functions, one global variables, everything should work\n",
    "\n",
    "function fun_a(temp)\n",
    "    \n",
    "    fun_b()\n",
    "    \n",
    "end\n",
    "\n",
    "function fun_b()\n",
    "    \n",
    "    println(temp)\n",
    "    \n",
    "end\n",
    "\n",
    "temp = \"temp defined in repl mode\"\n",
    "\n",
    "fun_a(temp)"
   ]
  },
  {
   "cell_type": "code",
   "execution_count": 3,
   "metadata": {
    "collapsed": false
   },
   "outputs": [
    {
     "ename": "LoadError",
     "evalue": "LoadError: UndefVarError: temp not defined\nwhile loading In[3], in expression starting on line 30",
     "output_type": "error",
     "traceback": [
      "LoadError: UndefVarError: temp not defined\nwhile loading In[3], in expression starting on line 30",
      "",
      " in fun_a at In[3]:14"
     ]
    }
   ],
   "source": [
    "workspace()\n",
    "\n",
    "# The same two functions wrapped in a module\n",
    "# First function (fun_a) has one argument (temp)\n",
    "# Second fuction (fun_b) has no arguments, but need \"temp\"\n",
    "# Will not work. temp was not defined in the module but in repl.\n",
    "\n",
    "module testmod\n",
    "\n",
    "export fun_a\n",
    "\n",
    "function fun_a(temp)\n",
    "    \n",
    "    fun_b()\n",
    "    \n",
    "end\n",
    "\n",
    "function fun_b()\n",
    "    \n",
    "    println(temp)\n",
    "    \n",
    "end\n",
    "\n",
    "end\n",
    "\n",
    "using testmod\n",
    "\n",
    "temp = \"temp defined in repl mode\"\n",
    "\n",
    "fun_a(temp)"
   ]
  },
  {
   "cell_type": "code",
   "execution_count": 4,
   "metadata": {
    "collapsed": false
   },
   "outputs": [
    {
     "name": "stdout",
     "output_type": "stream",
     "text": [
      "temp defined in module testmod\n"
     ]
    }
   ],
   "source": [
    "workspace()\n",
    "\n",
    "# The same two functions wrapped in a module\n",
    "# First function (fun_a) has one argument (temp)\n",
    "# Second fuction (fun_b) has no arguments, but need \"temp\"\n",
    "# Define \"temp\" in the module. Will work.\n",
    "# Is basically the same as the first version\n",
    "# Will not work. temp was not defined in the module.\n",
    "\n",
    "\n",
    "module testmod\n",
    "\n",
    "export fun_a\n",
    "\n",
    "temp = \"temp defined in module testmod\"\n",
    "\n",
    "function fun_a(temp)\n",
    "    \n",
    "    fun_b()\n",
    "    \n",
    "end\n",
    "\n",
    "function fun_b()\n",
    "    \n",
    "    println(temp)\n",
    "    \n",
    "end\n",
    "\n",
    "end\n",
    "\n",
    "\n",
    "using testmod\n",
    "\n",
    "temp = \"temp defined in repl mode\"\n",
    "\n",
    "fun_a(temp)"
   ]
  },
  {
   "cell_type": "code",
   "execution_count": null,
   "metadata": {
    "collapsed": true
   },
   "outputs": [],
   "source": []
  }
 ],
 "metadata": {
  "kernelspec": {
   "display_name": "Julia 0.4.6",
   "language": "julia",
   "name": "julia-0.4"
  },
  "language_info": {
   "file_extension": ".jl",
   "mimetype": "application/julia",
   "name": "julia",
   "version": "0.4.6"
  }
 },
 "nbformat": 4,
 "nbformat_minor": 0
}
