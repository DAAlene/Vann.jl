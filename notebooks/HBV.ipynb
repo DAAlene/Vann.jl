{
 "cells": [
  {
   "cell_type": "markdown",
   "metadata": {},
   "source": [
    "# HBV tests"
   ]
  },
  {
   "cell_type": "markdown",
   "metadata": {},
   "source": [
    "## Initilization"
   ]
  },
  {
   "cell_type": "markdown",
   "metadata": {},
   "source": [
    "**Fake input data:**"
   ]
  },
  {
   "cell_type": "code",
   "execution_count": 83,
   "metadata": {
    "collapsed": false
   },
   "outputs": [
    {
     "name": "stdout",
     "output_type": "stream",
     "text": [
      "[1000.0,0.0,11.2,0.0,0.0,0.0,12.4,3.2,0.0,0.0,0.0,1.2]\n",
      "[3.2,0.0,0.0,0.0,12.1,10.1,0.0,0.0,0.0,1.2,0.0,0.0]\n"
     ]
    }
   ],
   "source": [
    "prec = [1000, 0, 11.2, 0, 0, 0, 12.4, 3.2, 0, 0, 0, 1.2];\n",
    "\n",
    "epot = [3.2, 0, 0, 0, 12.1, 10.1, 0, 0, 0, 1.2, 0, 0];\n",
    "\n",
    "println(prec)\n",
    "\n",
    "println(epot)"
   ]
  },
  {
   "cell_type": "markdown",
   "metadata": {},
   "source": [
    "**States:**"
   ]
  },
  {
   "cell_type": "code",
   "execution_count": 84,
   "metadata": {
    "collapsed": true
   },
   "outputs": [],
   "source": [
    "sm = 10.;\n",
    "suz = 40.2;\n",
    "slz = 30.4;"
   ]
  },
  {
   "cell_type": "markdown",
   "metadata": {},
   "source": [
    "**Parameter values:**"
   ]
  },
  {
   "cell_type": "code",
   "execution_count": 85,
   "metadata": {
    "collapsed": false
   },
   "outputs": [
    {
     "data": {
      "text/plain": [
       "10.0"
      ]
     },
     "execution_count": 85,
     "metadata": {},
     "output_type": "execute_result"
    }
   ],
   "source": [
    "fc = 50.;   # Need to check that sm does not exceed fc\n",
    "lp = 0.5;   # Bounded between 0 and 1\n",
    "k0 = 0.5;   # Bounded between 0 and 1\n",
    "k1 = 0.5;   # Bounded between 0 and 1\n",
    "k2 = 0.5;   # Bounded between 0 and 1\n",
    "beta = 1.;  # Close to 1\n",
    "perc = 10.;  # Greater than 0"
   ]
  },
  {
   "cell_type": "markdown",
   "metadata": {},
   "source": [
    "# Model"
   ]
  },
  {
   "cell_type": "code",
   "execution_count": 86,
   "metadata": {
    "collapsed": false
   },
   "outputs": [
    {
     "name": "stdout",
     "output_type": "stream",
     "text": [
      "f_recharge = 0.2\n",
      "recharge = 200.0\n",
      "sm = 810.0\n",
      "eact = 0.0\n",
      "suz = 115.1\n",
      "perc_now = 10.0\n",
      "q_suz = 115.1\n",
      "slz = 40.4\n"
     ]
    }
   ],
   "source": [
    "\n",
    "# Input for current time step\n",
    "\n",
    "prec_now = prec[1]\n",
    "epot_now = epot[1]\n",
    "\n",
    "\n",
    "# Soil moisture zone (assume no evaporation if prec_now > 0)\n",
    "\n",
    "if prec_now > 0.\n",
    "    \n",
    "    # Beta function\n",
    "\n",
    "    f_recharge = (sm / fc) ^ beta;\n",
    "\n",
    "    # Groundwater recharge\n",
    "\n",
    "    recharge = f_recharge * prec_now;\n",
    "    \n",
    "    # Update soil moisture zone\n",
    "    \n",
    "    sm = sm + prec_now - recharge;\n",
    "    \n",
    "    if sm > fc\n",
    "        recharge += sm - fc;\n",
    "        sm = fc;        \n",
    "    end    \n",
    "    \n",
    "    # No evapotranspiration\n",
    "    \n",
    "    eact = 0.;    \n",
    "    \n",
    "else\n",
    "    \n",
    "    # Compute actual evapotranspiration\n",
    "    \n",
    "    eact = epot_now * min(sm/(fc*lp), 1.)\n",
    "    \n",
    "    # Update soil moisture zone\n",
    "    \n",
    "    sm = sm - eact;\n",
    "    \n",
    "    # No groundwater recharge\n",
    "    \n",
    "    recharge = 0.;    \n",
    "    \n",
    "end\n",
    "\n",
    "# Add recharge to soil upper zone\n",
    "\n",
    "suz = suz + recharge;\n",
    "\n",
    "# Remove percolation from soil upper zone\n",
    "\n",
    "perc_now = min(perc, suz);\n",
    "\n",
    "suz = suz - perc_now;\n",
    "\n",
    "# Compute runoff from soil upper zone and update storage\n",
    "\n",
    "q_suz = k1 * suz;\n",
    "\n",
    "suz = suz - q_suz;\n",
    "\n",
    "# Add precolation to soil lower zone\n",
    "\n",
    "slz = slz + perc_now;\n",
    "\n",
    "# Compute runoff from soil lower zone and update storage\n",
    "\n",
    "q_lz = k1 * slz;\n",
    "\n",
    "\n",
    "\n",
    "\n",
    "\n",
    "\n",
    "\n",
    "\n",
    "println(\"f_recharge = $f_recharge\")\n",
    "\n",
    "println(\"recharge = $recharge\")\n",
    "\n",
    "println(\"sm = $sm\")\n",
    "\n",
    "println(\"eact = $eact\")\n",
    "\n",
    "println(\"suz = $suz\")\n",
    "\n",
    "println(\"perc_now = $perc_now\")\n",
    "\n",
    "println(\"q_suz = $q_suz\")\n",
    "\n",
    "println(\"slz = $slz\")\n"
   ]
  },
  {
   "cell_type": "code",
   "execution_count": 87,
   "metadata": {
    "collapsed": false
   },
   "outputs": [
    {
     "data": {
      "text/plain": [
       "0.2"
      ]
     },
     "execution_count": 87,
     "metadata": {},
     "output_type": "execute_result"
    }
   ],
   "source": [
    "f_recharge"
   ]
  },
  {
   "cell_type": "code",
   "execution_count": null,
   "metadata": {
    "collapsed": true
   },
   "outputs": [],
   "source": []
  }
 ],
 "metadata": {
  "kernelspec": {
   "display_name": "Julia 0.5.0",
   "language": "julia",
   "name": "julia-0.5"
  },
  "language_info": {
   "file_extension": ".jl",
   "mimetype": "application/julia",
   "name": "julia",
   "version": "0.5.0"
  }
 },
 "nbformat": 4,
 "nbformat_minor": 0
}
